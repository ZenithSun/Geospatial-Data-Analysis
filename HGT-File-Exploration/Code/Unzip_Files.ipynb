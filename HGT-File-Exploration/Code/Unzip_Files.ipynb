{
 "cells": [
  {
   "cell_type": "code",
   "execution_count": 1,
   "metadata": {},
   "outputs": [],
   "source": [
    "from zipfile import ZipFile\n",
    "import os"
   ]
  },
  {
   "cell_type": "code",
   "execution_count": 4,
   "metadata": {},
   "outputs": [],
   "source": [
    "source_directory = r'D:\\SRTM1_Zip'\n",
    "target_directory = r'D:\\SRTM1'"
   ]
  },
  {
   "cell_type": "code",
   "execution_count": 5,
   "metadata": {},
   "outputs": [
    {
     "name": "stdout",
     "output_type": "stream",
     "text": [
      "Region_01\n",
      "Region_02\n",
      "Region_03\n",
      "Region_04\n",
      "Region_05\n",
      "Region_06\n",
      "Region_07\n"
     ]
    }
   ],
   "source": [
    "if not os.path.exists(target_directory):\n",
    "    os.makedirs(target_directory)\n",
    "region_list = os.listdir(source_directory)\n",
    "for region in region_list:\n",
    "    print(region)\n",
    "    source_region_directory = os.path.join(source_directory, region)\n",
    "    target_region_directory = os.path.join(target_directory, region)\n",
    "    if not os.path.exists(target_region_directory):\n",
    "        os.makedirs(target_region_directory)\n",
    "    file_list = os.listdir(source_region_directory)\n",
    "    for file in file_list:\n",
    "        with ZipFile(os.path.join(source_region_directory, file), 'r') as zip_ref:\n",
    "            zip_ref.extractall(target_region_directory)"
   ]
  }
 ],
 "metadata": {
  "kernelspec": {
   "display_name": "Python 3",
   "language": "python",
   "name": "python3"
  },
  "language_info": {
   "codemirror_mode": {
    "name": "ipython",
    "version": 3
   },
   "file_extension": ".py",
   "mimetype": "text/x-python",
   "name": "python",
   "nbconvert_exporter": "python",
   "pygments_lexer": "ipython3",
   "version": "3.6.7"
  }
 },
 "nbformat": 4,
 "nbformat_minor": 2
}
