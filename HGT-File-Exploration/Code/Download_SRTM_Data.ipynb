{
 "cells": [
  {
   "cell_type": "code",
   "execution_count": 1,
   "metadata": {},
   "outputs": [],
   "source": [
    "import numpy as np\n",
    "import pandas as pd\n",
    "from urllib.request import urlopen\n",
    "from urllib.request import urlretrieve\n",
    "from bs4 import BeautifulSoup\n",
    "import re\n",
    "import os"
   ]
  },
  {
   "cell_type": "markdown",
   "metadata": {},
   "source": [
    "###  SRTM3 Dataset"
   ]
  },
  {
   "cell_type": "code",
   "execution_count": 2,
   "metadata": {},
   "outputs": [
    {
     "name": "stdout",
     "output_type": "stream",
     "text": [
      "Africa/\n",
      "Australia/\n",
      "Eurasia/\n",
      "Islands/\n",
      "North_America/\n",
      "South_America/\n"
     ]
    }
   ],
   "source": [
    "target_directory = r'D:'\n",
    "html=urlopen('https://dds.cr.usgs.gov/srtm/version2_1/SRTM3/')\n",
    "html_content = html.read().decode('ascii')\n",
    "region_list = re.findall(r'<a.*href=\"(.+)\"', html_content)\n",
    "if not os.path.exists(os.path.join(target_directory, 'SRTM3')):\n",
    "    os.makedirs(os.path.join(target_directory, 'SRTM3'))\n",
    "data_directory = os.path.join(target_directory, 'SRTM3')\n",
    "for region in region_list:\n",
    "    if 'srtm' not in region:\n",
    "        print(region)\n",
    "        if not os.path.exists(os.path.join(data_directory, region)):\n",
    "            os.makedirs(os.path.join(data_directory, region))\n",
    "        region_data_directory = os.path.join(data_directory, region)\n",
    "        html_sub = urlopen('https://dds.cr.usgs.gov/srtm/version2_1/SRTM3/' + region)\n",
    "        html_sub_content = html_sub.read().decode('ascii')\n",
    "        file_list = re.findall(r'<a.*href=\"(.+)\"', html_sub_content)\n",
    "        for file in file_list:\n",
    "            if 'srtm' not in file:\n",
    "                urlretrieve('https://dds.cr.usgs.gov/srtm/version2_1/SRTM3/' + region+file, \n",
    "                            os.path.join(region_data_directory, file))"
   ]
  },
  {
   "cell_type": "markdown",
   "metadata": {},
   "source": [
    "### SRTM1 Dataset"
   ]
  },
  {
   "cell_type": "code",
   "execution_count": 2,
   "metadata": {},
   "outputs": [
    {
     "name": "stdout",
     "output_type": "stream",
     "text": [
      "Region_01/\n",
      "Region_02/\n",
      "Region_03/\n",
      "Region_04/\n",
      "Region_05/\n",
      "Region_06/\n",
      "Region_07/\n"
     ]
    }
   ],
   "source": [
    "target_directory = r'D:'\n",
    "html=urlopen('https://dds.cr.usgs.gov/srtm/version2_1/SRTM1/')\n",
    "html_content = html.read().decode('ascii')\n",
    "region_list = re.findall(r'<a.*href=\"(.+)\"', html_content)\n",
    "if not os.path.exists(os.path.join(target_directory, 'SRTM1')):\n",
    "    os.makedirs(os.path.join(target_directory, 'SRTM1'))\n",
    "data_directory = os.path.join(target_directory, 'SRTM1')\n",
    "for region in region_list:\n",
    "    if re.findall(r'Region_\\d+', region):\n",
    "        print(region)\n",
    "        if not os.path.exists(os.path.join(data_directory, region)):\n",
    "            os.makedirs(os.path.join(data_directory, region))\n",
    "        region_data_directory = os.path.join(data_directory, region)\n",
    "        html_sub = urlopen('https://dds.cr.usgs.gov/srtm/version2_1/SRTM1/' + region)\n",
    "        html_sub_content = html_sub.read().decode('ascii')\n",
    "        file_list = re.findall(r'<a.*href=\"(.+)\"', html_sub_content)\n",
    "        for file in file_list:\n",
    "            if 'hgt' in file:\n",
    "                urlretrieve('https://dds.cr.usgs.gov/srtm/version2_1/SRTM1/' + region+file, \n",
    "                            os.path.join(region_data_directory, file))"
   ]
  },
  {
   "cell_type": "code",
   "execution_count": null,
   "metadata": {},
   "outputs": [],
   "source": []
  }
 ],
 "metadata": {
  "kernelspec": {
   "display_name": "Python 3",
   "language": "python",
   "name": "python3"
  },
  "language_info": {
   "codemirror_mode": {
    "name": "ipython",
    "version": 3
   },
   "file_extension": ".py",
   "mimetype": "text/x-python",
   "name": "python",
   "nbconvert_exporter": "python",
   "pygments_lexer": "ipython3",
   "version": "3.6.7"
  }
 },
 "nbformat": 4,
 "nbformat_minor": 2
}
